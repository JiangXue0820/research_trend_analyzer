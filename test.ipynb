{
 "cells": [
  {
   "cell_type": "code",
   "execution_count": 44,
   "id": "66fc28f7",
   "metadata": {},
   "outputs": [
    {
     "ename": "AttributeError",
     "evalue": "module 'configs.config' has no attribute 'PAPER_DB_PATH'",
     "output_type": "error",
     "traceback": [
      "\u001b[31m---------------------------------------------------------------------------\u001b[39m",
      "\u001b[31mAttributeError\u001b[39m                            Traceback (most recent call last)",
      "\u001b[36mCell\u001b[39m\u001b[36m \u001b[39m\u001b[32mIn[44]\u001b[39m\u001b[32m, line 1\u001b[39m\n\u001b[32m----> \u001b[39m\u001b[32m1\u001b[39m \u001b[38;5;28;01mfrom\u001b[39;00m\u001b[38;5;250m \u001b[39m\u001b[34;01magents\u001b[39;00m\u001b[34;01m.\u001b[39;00m\u001b[34;01mconversation_agent\u001b[39;00m\u001b[38;5;250m \u001b[39m\u001b[38;5;28;01mimport\u001b[39;00m *\n",
      "\u001b[36mFile \u001b[39m\u001b[32md:\\AI_Learning\\AI_agent\\research_trend_analyzer\\agents\\conversation_agent.py:8\u001b[39m\n\u001b[32m      6\u001b[39m \u001b[38;5;28;01mfrom\u001b[39;00m\u001b[38;5;250m \u001b[39m\u001b[34;01mconfigs\u001b[39;00m\u001b[38;5;250m \u001b[39m\u001b[38;5;28;01mimport\u001b[39;00m config\n\u001b[32m      7\u001b[39m \u001b[38;5;28;01mfrom\u001b[39;00m\u001b[38;5;250m \u001b[39m\u001b[34;01mconfigs\u001b[39;00m\u001b[34;01m.\u001b[39;00m\u001b[34;01mllm_provider\u001b[39;00m\u001b[38;5;250m \u001b[39m\u001b[38;5;28;01mimport\u001b[39;00m get_llm\n\u001b[32m----> \u001b[39m\u001b[32m8\u001b[39m \u001b[38;5;28;01mfrom\u001b[39;00m\u001b[38;5;250m \u001b[39m\u001b[34;01mtools\u001b[39;00m\u001b[34;01m.\u001b[39;00m\u001b[34;01mpaper_fetch_tools_sql\u001b[39;00m\u001b[38;5;250m \u001b[39m\u001b[38;5;28;01mimport\u001b[39;00m paper_fetch_toolkit\n\u001b[32m      9\u001b[39m \u001b[38;5;28;01mfrom\u001b[39;00m\u001b[38;5;250m \u001b[39m\u001b[34;01mtools\u001b[39;00m\u001b[34;01m.\u001b[39;00m\u001b[34;01mpaper_analyze_tools\u001b[39;00m\u001b[38;5;250m \u001b[39m\u001b[38;5;28;01mimport\u001b[39;00m paper_analyze_toolkit\n\u001b[32m     11\u001b[39m \u001b[38;5;66;03m# 1. Initialize LLM\u001b[39;00m\n",
      "\u001b[36mFile \u001b[39m\u001b[32md:\\AI_Learning\\AI_agent\\research_trend_analyzer\\tools\\paper_fetch_tools_sql.py:234\u001b[39m\n\u001b[32m    229\u001b[39m         logging.exception(\u001b[33m\"\u001b[39m\u001b[33m[FETCH] Exception during fetching paper list\u001b[39m\u001b[33m\"\u001b[39m)\n\u001b[32m    230\u001b[39m         \u001b[38;5;28;01mreturn\u001b[39;00m {\u001b[33m\"\u001b[39m\u001b[33merror\u001b[39m\u001b[33m\"\u001b[39m: \u001b[33mf\u001b[39m\u001b[33m\"\u001b[39m\u001b[33mFailed to fetch papers: \u001b[39m\u001b[38;5;132;01m{\u001b[39;00m\u001b[38;5;28mstr\u001b[39m(e)\u001b[38;5;132;01m}\u001b[39;00m\u001b[33m\"\u001b[39m}\n\u001b[32m    233\u001b[39m save_paper_tool = StructuredTool.from_function(\n\u001b[32m--> \u001b[39m\u001b[32m234\u001b[39m     func=partial(save_paper_info_sql, paper_db_path=\u001b[43mconfig\u001b[49m\u001b[43m.\u001b[49m\u001b[43mPAPER_DB_PATH\u001b[49m),\n\u001b[32m    235\u001b[39m     args_schema=SavePaperArgs,\n\u001b[32m    236\u001b[39m     name=\u001b[33m\"\u001b[39m\u001b[33msave_paper_info\u001b[39m\u001b[33m\"\u001b[39m,\n\u001b[32m    237\u001b[39m     description=\u001b[33m\"\u001b[39m\u001b[33mSave a list of paper metadata (title, authors, abstract, urls) to the SQL database. Optionally grouped by topic.\u001b[39m\u001b[33m\"\u001b[39m\n\u001b[32m    238\u001b[39m )\n\u001b[32m    239\u001b[39m load_paper_tool = StructuredTool.from_function(\n\u001b[32m    240\u001b[39m     func=partial(load_paper_list_sql, paper_db_path=config.PAPER_DB_PATH),\n\u001b[32m    241\u001b[39m     args_schema=LoadPaperArgs,\n\u001b[32m    242\u001b[39m     name=\u001b[33m\"\u001b[39m\u001b[33mload_paper_list\u001b[39m\u001b[33m\"\u001b[39m,\n\u001b[32m    243\u001b[39m     description=\u001b[33m\"\u001b[39m\u001b[33mLoad paper metadata from the SQL database for a given conference and year. Optionally filter by topic.\u001b[39m\u001b[33m\"\u001b[39m\n\u001b[32m    244\u001b[39m )\n\u001b[32m    245\u001b[39m filter_paper_by_topic_tool = StructuredTool.from_function(\n\u001b[32m    246\u001b[39m     func=partial(filter_paper_by_topic_sql, paper_db_path=config.PAPER_DB_PATH),\n\u001b[32m    247\u001b[39m     args_schema=FilterPaperByTopicArgs,\n\u001b[32m    248\u001b[39m     name=\u001b[33m\"\u001b[39m\u001b[33mfilter_paper_by_topic\u001b[39m\u001b[33m\"\u001b[39m,\n\u001b[32m    249\u001b[39m     description=\u001b[33m\"\u001b[39m\u001b[33mFilter papers in the SQL database by a topic\u001b[39m\u001b[33m'\u001b[39m\u001b[33ms keywords, for a conference and year.\u001b[39m\u001b[33m\"\u001b[39m\n\u001b[32m    250\u001b[39m )\n",
      "\u001b[31mAttributeError\u001b[39m: module 'configs.config' has no attribute 'PAPER_DB_PATH'"
     ]
    }
   ],
   "source": [
    "from agents.conversation_agent import *"
   ]
  },
  {
   "cell_type": "code",
   "execution_count": 48,
   "id": "1a72b4ea",
   "metadata": {},
   "outputs": [],
   "source": [
    "from configs.config import *"
   ]
  },
  {
   "cell_type": "code",
   "execution_count": 50,
   "id": "82a7abc9",
   "metadata": {},
   "outputs": [
    {
     "ename": "AttributeError",
     "evalue": "module 'configs.config' has no attribute 'PAPER_DB_PATH'",
     "output_type": "error",
     "traceback": [
      "\u001b[31m---------------------------------------------------------------------------\u001b[39m",
      "\u001b[31mAttributeError\u001b[39m                            Traceback (most recent call last)",
      "\u001b[36mCell\u001b[39m\u001b[36m \u001b[39m\u001b[32mIn[50]\u001b[39m\u001b[32m, line 1\u001b[39m\n\u001b[32m----> \u001b[39m\u001b[32m1\u001b[39m \u001b[43mconfig\u001b[49m\u001b[43m.\u001b[49m\u001b[43mPAPER_DB_PATH\u001b[49m\n",
      "\u001b[31mAttributeError\u001b[39m: module 'configs.config' has no attribute 'PAPER_DB_PATH'"
     ]
    }
   ],
   "source": [
    "config.PAPER_DB_PATH"
   ]
  },
  {
   "cell_type": "code",
   "execution_count": null,
   "id": "97b33cd7",
   "metadata": {},
   "outputs": [
    {
     "data": {
      "text/plain": [
       "<module 'configs.config' from 'd:\\\\AI_Learning\\\\AI_agent\\\\research_trend_analyzer\\\\configs\\\\config.py'>"
      ]
     },
     "execution_count": 47,
     "metadata": {},
     "output_type": "execute_result"
    }
   ],
   "source": [
    "config."
   ]
  },
  {
   "cell_type": "code",
   "execution_count": null,
   "id": "0defcf96",
   "metadata": {},
   "outputs": [],
   "source": []
  }
 ],
 "metadata": {
  "kernelspec": {
   "display_name": ".venv",
   "language": "python",
   "name": "python3"
  },
  "language_info": {
   "codemirror_mode": {
    "name": "ipython",
    "version": 3
   },
   "file_extension": ".py",
   "mimetype": "text/x-python",
   "name": "python",
   "nbconvert_exporter": "python",
   "pygments_lexer": "ipython3",
   "version": "3.13.5"
  }
 },
 "nbformat": 4,
 "nbformat_minor": 5
}
